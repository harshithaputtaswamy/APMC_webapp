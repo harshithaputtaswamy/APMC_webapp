{
  "nbformat": 4,
  "nbformat_minor": 0,
  "metadata": {
    "colab": {
      "provenance": [],
      "authorship_tag": "ABX9TyNj00OAs5+pWAHQtGH1o4CV",
      "include_colab_link": true
    },
    "kernelspec": {
      "name": "python3",
      "display_name": "Python 3"
    },
    "language_info": {
      "name": "python"
    }
  },
  "cells": [
    {
      "cell_type": "markdown",
      "metadata": {
        "id": "view-in-github",
        "colab_type": "text"
      },
      "source": [
        "<a href=\"https://colab.research.google.com/github/harshithaputtaswamy/APMC_webapp/blob/master/assign1_puttaswamy_b00982715.ipynb\" target=\"_parent\"><img src=\"https://colab.research.google.com/assets/colab-badge.svg\" alt=\"Open In Colab\"/></a>"
      ]
    },
    {
      "cell_type": "markdown",
      "source": [
        "Harshitha Puttaswamy\n",
        "\n",
        "B00982715\n",
        "\n",
        "hputtaswamy@binghamton.edu"
      ],
      "metadata": {
        "id": "EY6WdNurPSJO"
      }
    },
    {
      "cell_type": "code",
      "source": [],
      "metadata": {
        "id": "OM4PnFDJPcRf"
      },
      "execution_count": null,
      "outputs": []
    },
    {
      "cell_type": "markdown",
      "source": [
        "## **Part 1 [16 pts]: Numerical Inversion by Binary Search**\n",
        "For this part, you are to write a function named invert that has two required parameters and one optional parameter d. The required parameters are another function f(x) and a y value. Your function should return the x value such that f(x) = y. The function is guaranteed to be non-decreasing, i.e., the derivative is always 0 or positive. If a 3rd argument is given, it will be a tuple (if using Python) representing an interval where the function is guaranteed to be non-decreasing. Otherwise, you may assume that the function is everywhere non-decreasing."
      ],
      "metadata": {
        "id": "CKW7JsWScvv5"
      }
    },
    {
      "cell_type": "code",
      "source": [],
      "metadata": {
        "id": "IrSsRkjzc276"
      },
      "execution_count": null,
      "outputs": []
    },
    {
      "cell_type": "markdown",
      "source": [
        "## **Part 1.1 [8 pts]: Transcendental Functions**\n",
        "Apply your invert function to this function:\n",
        "f(x) = xe^x + x"
      ],
      "metadata": {
        "id": "GtzU3mIxc9Wx"
      }
    },
    {
      "cell_type": "code",
      "source": [],
      "metadata": {
        "id": "tlltOhdxdN7B"
      },
      "execution_count": null,
      "outputs": []
    },
    {
      "cell_type": "markdown",
      "source": [
        "Write a test to make sure that your invert routine is able to invert the function everywhere. We leave it up to you to think about how to design and implement such a test."
      ],
      "metadata": {
        "id": "xUxqjqVFeC6B"
      }
    },
    {
      "cell_type": "code",
      "source": [],
      "metadata": {
        "id": "2HfsRcQUeFaA"
      },
      "execution_count": null,
      "outputs": []
    },
    {
      "cell_type": "markdown",
      "source": [
        "## **Part 1.2 [8 pts]: Gamma Function**\n",
        "The gamma function is component of many probability distribution functions and has a wide range of applications in probability, statistics, and physics. The gamma function is defined as an improper integral:"
      ],
      "metadata": {
        "id": "htW3QPHidWjp"
      }
    },
    {
      "cell_type": "code",
      "source": [],
      "metadata": {
        "id": "vryyHf89dZdi"
      },
      "execution_count": null,
      "outputs": []
    },
    {
      "cell_type": "markdown",
      "source": [
        " Write a test to make that your invert routine is able to invert the Gamma function in the domain (1.5, 1.6). You may use the gamma function defined in SciPy."
      ],
      "metadata": {
        "id": "s32qKUKzdtTA"
      }
    },
    {
      "cell_type": "code",
      "source": [],
      "metadata": {
        "id": "U4fjLtdCeOEY"
      },
      "execution_count": null,
      "outputs": []
    },
    {
      "cell_type": "markdown",
      "source": [
        "## **Part 2 [7 pts]: Numerical Integration**\n",
        "A large class of continuous functions do not have closed-form solutions for their antiderivatives. In this case, the definite integral over a range can be computed numerically. Write a function integrate that has two parameters: another function f(x) and a tuple representing the range of integration. Your function should return the definite integral of the function f(x), computed over the given range."
      ],
      "metadata": {
        "id": "Fh4yFsQIefIf"
      }
    },
    {
      "cell_type": "code",
      "source": [],
      "metadata": {
        "id": "FCqDCr_Bel1m"
      },
      "execution_count": null,
      "outputs": []
    },
    {
      "cell_type": "markdown",
      "source": [
        "### **Compute the definite integral numerically using your integrate function.**\n",
        "\n",
        "You may use Monte Carlo or other sampling-based methods, as long as the program terminates in a reasonable amount of time. Your function should return the integral value with as high a precision as possible."
      ],
      "metadata": {
        "id": "KX6kh0zceX3w"
      }
    },
    {
      "cell_type": "code",
      "source": [],
      "metadata": {
        "id": "tU8xTjseeeGH"
      },
      "execution_count": null,
      "outputs": []
    },
    {
      "cell_type": "markdown",
      "source": [
        "## **Part 3 [39 pts]: Gradient Descent**\n",
        "For this part, you will write a gradient descent optimizer and use it to minimize some functions. In the below, we’ll call the function to be optimized f. Write a function opt with three parameters: a function grad(p), a tuple start giving the starting point of the optimization, and the step size step. The function grad(p) should accept a point p as a tuple and returns a tuple giving the gradient of f at p.\n",
        "\n",
        "Your function opt should return an array of tuples consisting of the sequence of points where the gradient is evaluated, starting from the start point. The last element of the returned array should be the point that minimizes f. The point may be a local mininum.\n",
        "\n",
        "Note: Make sure your function always terminates.\n",
        "\n",
        "Place your function in a separate cell. You will then apply your opt function to two functions below."
      ],
      "metadata": {
        "id": "xL6gACc7e67v"
      }
    },
    {
      "cell_type": "code",
      "source": [],
      "metadata": {
        "id": "MvNUe5vhe9BH"
      },
      "execution_count": null,
      "outputs": []
    },
    {
      "cell_type": "markdown",
      "source": [
        "### **Part 3.1 [15 pts]: Three-Hump Camel Function**\n",
        "The three-hump camel function is a two-dimensional function often used to benchmark optimization methods. It has multiple extrema. The three-hump camel function is defined as:\n",
        "\n",
        "\n",
        "\n",
        "1.   Implement the function thcf with a single tuple parameter p, giving the coordinates $x_1$\n",
        " and $x_2$\n",
        " to evaluate the function.\n",
        "2.   Implement the gradient function, thcf_grad that accepts a point and returns the gradient of that point, both as tuples.\n",
        "3.  In this cell, put in code that checks using a finite differnce that your thcf_grad function is implemented correctly. It should use randomization of the point at which to check the gradient, and allow running for any number of checks. It should be as convincing as possible.\n",
        "4.  Find the global minimum, possibly using multiple runs of your opt function. Your code should not have a hard-coded starting point.\n",
        "5.  Generate a surface plot or contour plot of the function, showing the path of the gradient descent that found the global minimum. You can use the matplotlib library."
      ],
      "metadata": {
        "id": "qda2V1hbfDwX"
      }
    },
    {
      "cell_type": "code",
      "source": [],
      "metadata": {
        "id": "RM1T5HU3fHgX"
      },
      "execution_count": null,
      "outputs": []
    },
    {
      "cell_type": "markdown",
      "source": [
        "### **Part 3.2 [24 pts]: 2-D Shubert Function**\n",
        "The Shubert function is an N-dimensional function also often used to benchmark optimization methods. It also has many local and global minima that are irregularly distributed in the domain. The 2-D Shubert function is defined as:\n",
        "For this part, you should implement the following, each in a separate cell:\n",
        "\n",
        "\n",
        "\n",
        "1.   Implement the function sf with a single tuple parameter p, giving the coordinates $x_1$\n",
        " and $x_2$\n",
        " to evaluate the function.\n",
        "2.   Implement the gradient function, sf_grad that accepts a point and returns the gradient of that point, both as tuples.\n",
        "3.  In this cell, put in code that checks using a finite differnce that your sf_grad function is implemented correctly. It should use randomization of the point at which to check the gradient, and allow running for any number of checks. It should be as convincing as possible.\n",
        "4.  Find the global minimum, possibly using multiple runs of your opt function. Your code should not have a hard-coded starting point.\n",
        "5.  Generate a surface plot or contour plot of the function, showing the path of the gradient descent that found the global minimum. You can use the matplotlib library."
      ],
      "metadata": {
        "id": "xCxgXfP3fMdt"
      }
    },
    {
      "cell_type": "code",
      "source": [],
      "metadata": {
        "id": "-hglHjxPfZ9P"
      },
      "execution_count": null,
      "outputs": []
    },
    {
      "cell_type": "markdown",
      "source": [
        "## **Part 4 [38 pts]: Random Variates**\n",
        "### **Part 4.1 [15 pts]: Rejection Sampling**\n",
        "The function $\\sin(x^2)$\n",
        " could be used to define a PDF, over the domain 0 to\n",
        ". However, one of the properties of any PDF is that it must integrate to one. This can generally be met by normalization: simply integrating function over the domain, and dividing it by the value of the definite integral to obtain the actual PDF.\n",
        "\n",
        "For this part, you must:\n",
        "\n",
        "\n",
        "\n",
        "1.   First, correct the candidate PDF $\\sin(x^2)$ by normalizing it. Put how you did this in a Markdown cell. You may use tools such as Mathematica if you wish, but explain how you did it.\n",
        "2.   Then, in another cell, write a function named pdf_sin2(n) that generates n variates according to the PDF, and returns them in a list. Use rejection sampling. You can use a simple uniform distribution as your proposal distribution. If you wish, you may also use a proposal distribution that more closely envelopes (bounds) the target distribution. A different point must be generated each time it is called, but it is okay if the same sequence is generated. (No need to seed.)\n",
        "3.  Lastly, in a third cell, convince us that you have done it correctly. You should not try to prove it mathematically, but rather do something like generate a histogram of samples from your pdf_sin2 function, and plot it against the actual PDF."
      ],
      "metadata": {
        "id": "rPwr507pffRW"
      }
    },
    {
      "cell_type": "code",
      "source": [],
      "metadata": {
        "id": "pW0J0rH8fj_e"
      },
      "execution_count": null,
      "outputs": []
    },
    {
      "cell_type": "markdown",
      "source": [
        "### **Part 4.2 [23 pts]: Uniform Variates in the Unit Disk**\n",
        "As shown in class, one way to generate uniform variates in the unit disk is to use a representation of the unit disk parameterized by arc length and distance from the center. Another way is to simply first generate an\n",
        " in the interval going across the middle of the disk, and then a $y$\n",
        " in the vertical line at the $x$\n",
        " that is within the disk.\n",
        "\n",
        "For this part, you must:\n",
        "\n",
        "\n",
        "\n",
        "1.   First, explain in a Markdown cell how you corrected the $x$ distribution. You may use tools such as Mathematica if you wish, but explain how you did it. You may include LaTeX in a Markdown cell by enclosing it in $ characters, like $\\sin(x)^x$.\n",
        "2.  Then, in another cell, write a function named disk_sample(n) that generates n points sampled uniformly within the unit disk and returns them in a list. Use the inverse CDF method. A different point must be generated each time it is called, but it is okay if the same sequence is generated. (No need to seed.)\n",
        "3.  Lastly, in a third cell, convince us that you have done it correctly with a plot similar to that shown above."
      ],
      "metadata": {
        "id": "oZJnxclmfo_F"
      }
    },
    {
      "cell_type": "code",
      "source": [],
      "metadata": {
        "id": "9ni-oJFJfxMO"
      },
      "execution_count": null,
      "outputs": []
    }
  ]
}